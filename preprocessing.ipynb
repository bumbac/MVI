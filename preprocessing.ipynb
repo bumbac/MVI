{
 "cells": [
  {
   "cell_type": "markdown",
   "id": "914ac47d-897b-42dd-875f-8da1dff2a18d",
   "metadata": {},
   "source": [
    "## Preprocessing of the training and evaluation data\n",
    "\n",
    "The audio recordings come from YouTube podcasts in spanish language. Noise taken from DEMAND dataset. The list is available in the `sources.txt` file.\n",
    "\n",
    "The preprocessing consists in three steps:\n",
    "\n",
    "1. Downsample the audio recording wav 44.1kHz to wav 16kHz and convert to 1 channel. It loses some quality but it improves the training time. It was recommended in the paper. First and last minute of the recording is removed because of music.\n",
    "\n",
    "    `ffmpeg -ss 60 -i input -ar 16000 -ac 1 output`\n",
    "\n",
    "2. Create a copy of audio recording and add noise.\n",
    "    2. Noise is taken from DEMAND dataset as recommended in the paper.\n",
    "3. Tokenize the audio in samples 3-8 seconds long on silence.\n",
    "4. Split the data to train and evaluation set, create pairs (clean, noisy).\n"
   ]
  },
  {
   "cell_type": "code",
   "execution_count": 5,
   "id": "227ac943-8413-460b-b444-bee65882c21a",
   "metadata": {
    "tags": []
   },
   "outputs": [],
   "source": [
    "import auditok as at\n",
    "import librosa\n",
    "import os\n",
    "import soundfile as sf\n",
    "import numpy as np"
   ]
  },
  {
   "cell_type": "code",
   "execution_count": 6,
   "id": "00437f79-b7bf-4bd1-ba0e-ae91f39c8dc9",
   "metadata": {},
   "outputs": [],
   "source": [
    "noise_src = [\"OMEETING\", \"OOFFICE\", \"PRESTO\", \"SPSQUARE\"]\n",
    "clean_src = ['podcast1_16_5.wav', 'podcast2_16_5.wav', 'podcast3_16_5.wav', 'podcast4_16_5.wav']\n",
    "original_dir = \"data/podcast/\"\n",
    "diff_noise_dir = \"data/noise/\"\n",
    "noise_idx = 0\n",
    "ch_names = [\"/ch%.2d.wav\" % i for i in range(1,16)]\n",
    "data = {}"
   ]
  },
  {
   "cell_type": "code",
   "execution_count": 4,
   "id": "03b903fb-f128-453c-8627-513903a1d987",
   "metadata": {
    "tags": []
   },
   "outputs": [
    {
     "name": "stderr",
     "output_type": "stream",
     "text": [
      "/home/sutymate/.local/lib/python3.8/site-packages/librosa/util/decorators.py:88: UserWarning: PySoundFile failed. Trying audioread instead.\n",
      "  return f(*args, **kwargs)\n"
     ]
    },
    {
     "ename": "FileNotFoundError",
     "evalue": "[Errno 2] No such file or directory: 'data/in/original/podcast1_16_5.wav'",
     "output_type": "error",
     "traceback": [
      "\u001b[0;31m---------------------------------------------------------------------------\u001b[0m",
      "\u001b[0;31mLibsndfileError\u001b[0m                           Traceback (most recent call last)",
      "File \u001b[0;32m~/.local/lib/python3.8/site-packages/librosa/core/audio.py:164\u001b[0m, in \u001b[0;36mload\u001b[0;34m(path, sr, mono, offset, duration, dtype, res_type)\u001b[0m\n\u001b[1;32m    163\u001b[0m \u001b[38;5;28;01mtry\u001b[39;00m:\n\u001b[0;32m--> 164\u001b[0m     y, sr_native \u001b[38;5;241m=\u001b[39m \u001b[43m__soundfile_load\u001b[49m\u001b[43m(\u001b[49m\u001b[43mpath\u001b[49m\u001b[43m,\u001b[49m\u001b[43m \u001b[49m\u001b[43moffset\u001b[49m\u001b[43m,\u001b[49m\u001b[43m \u001b[49m\u001b[43mduration\u001b[49m\u001b[43m,\u001b[49m\u001b[43m \u001b[49m\u001b[43mdtype\u001b[49m\u001b[43m)\u001b[49m\n\u001b[1;32m    166\u001b[0m \u001b[38;5;28;01mexcept\u001b[39;00m \u001b[38;5;167;01mRuntimeError\u001b[39;00m \u001b[38;5;28;01mas\u001b[39;00m exc:\n\u001b[1;32m    167\u001b[0m     \u001b[38;5;66;03m# If soundfile failed, try audioread instead\u001b[39;00m\n",
      "File \u001b[0;32m~/.local/lib/python3.8/site-packages/librosa/core/audio.py:195\u001b[0m, in \u001b[0;36m__soundfile_load\u001b[0;34m(path, offset, duration, dtype)\u001b[0m\n\u001b[1;32m    193\u001b[0m \u001b[38;5;28;01melse\u001b[39;00m:\n\u001b[1;32m    194\u001b[0m     \u001b[38;5;66;03m# Otherwise, create the soundfile object\u001b[39;00m\n\u001b[0;32m--> 195\u001b[0m     context \u001b[38;5;241m=\u001b[39m \u001b[43msf\u001b[49m\u001b[38;5;241;43m.\u001b[39;49m\u001b[43mSoundFile\u001b[49m\u001b[43m(\u001b[49m\u001b[43mpath\u001b[49m\u001b[43m)\u001b[49m\n\u001b[1;32m    197\u001b[0m \u001b[38;5;28;01mwith\u001b[39;00m context \u001b[38;5;28;01mas\u001b[39;00m sf_desc:\n",
      "File \u001b[0;32m~/.local/lib/python3.8/site-packages/soundfile.py:655\u001b[0m, in \u001b[0;36mSoundFile.__init__\u001b[0;34m(self, file, mode, samplerate, channels, subtype, endian, format, closefd)\u001b[0m\n\u001b[1;32m    653\u001b[0m \u001b[38;5;28mself\u001b[39m\u001b[38;5;241m.\u001b[39m_info \u001b[38;5;241m=\u001b[39m _create_info_struct(file, mode, samplerate, channels,\n\u001b[1;32m    654\u001b[0m                                  \u001b[38;5;28mformat\u001b[39m, subtype, endian)\n\u001b[0;32m--> 655\u001b[0m \u001b[38;5;28mself\u001b[39m\u001b[38;5;241m.\u001b[39m_file \u001b[38;5;241m=\u001b[39m \u001b[38;5;28;43mself\u001b[39;49m\u001b[38;5;241;43m.\u001b[39;49m\u001b[43m_open\u001b[49m\u001b[43m(\u001b[49m\u001b[43mfile\u001b[49m\u001b[43m,\u001b[49m\u001b[43m \u001b[49m\u001b[43mmode_int\u001b[49m\u001b[43m,\u001b[49m\u001b[43m \u001b[49m\u001b[43mclosefd\u001b[49m\u001b[43m)\u001b[49m\n\u001b[1;32m    656\u001b[0m \u001b[38;5;28;01mif\u001b[39;00m \u001b[38;5;28mset\u001b[39m(mode)\u001b[38;5;241m.\u001b[39missuperset(\u001b[38;5;124m'\u001b[39m\u001b[38;5;124mr+\u001b[39m\u001b[38;5;124m'\u001b[39m) \u001b[38;5;129;01mand\u001b[39;00m \u001b[38;5;28mself\u001b[39m\u001b[38;5;241m.\u001b[39mseekable():\n\u001b[1;32m    657\u001b[0m     \u001b[38;5;66;03m# Move write position to 0 (like in Python file objects)\u001b[39;00m\n",
      "File \u001b[0;32m~/.local/lib/python3.8/site-packages/soundfile.py:1213\u001b[0m, in \u001b[0;36mSoundFile._open\u001b[0;34m(self, file, mode_int, closefd)\u001b[0m\n\u001b[1;32m   1212\u001b[0m     err \u001b[38;5;241m=\u001b[39m _snd\u001b[38;5;241m.\u001b[39msf_error(file_ptr)\n\u001b[0;32m-> 1213\u001b[0m     \u001b[38;5;28;01mraise\u001b[39;00m LibsndfileError(err, prefix\u001b[38;5;241m=\u001b[39m\u001b[38;5;124m\"\u001b[39m\u001b[38;5;124mError opening \u001b[39m\u001b[38;5;132;01m{0!r}\u001b[39;00m\u001b[38;5;124m: \u001b[39m\u001b[38;5;124m\"\u001b[39m\u001b[38;5;241m.\u001b[39mformat(\u001b[38;5;28mself\u001b[39m\u001b[38;5;241m.\u001b[39mname))\n\u001b[1;32m   1214\u001b[0m \u001b[38;5;28;01mif\u001b[39;00m mode_int \u001b[38;5;241m==\u001b[39m _snd\u001b[38;5;241m.\u001b[39mSFM_WRITE:\n\u001b[1;32m   1215\u001b[0m     \u001b[38;5;66;03m# Due to a bug in libsndfile version <= 1.0.25, frames != 0\u001b[39;00m\n\u001b[1;32m   1216\u001b[0m     \u001b[38;5;66;03m# when opening a named pipe in SFM_WRITE mode.\u001b[39;00m\n\u001b[1;32m   1217\u001b[0m     \u001b[38;5;66;03m# See http://github.com/erikd/libsndfile/issues/77.\u001b[39;00m\n",
      "\u001b[0;31mLibsndfileError\u001b[0m: Error opening 'data/in/original/podcast1_16_5.wav': System error.",
      "\nDuring handling of the above exception, another exception occurred:\n",
      "\u001b[0;31mFileNotFoundError\u001b[0m                         Traceback (most recent call last)",
      "Cell \u001b[0;32mIn [4], line 4\u001b[0m\n\u001b[1;32m      2\u001b[0m \u001b[38;5;28;01mfor\u001b[39;00m filename \u001b[38;5;129;01min\u001b[39;00m clean_src:\n\u001b[1;32m      3\u001b[0m     clean_file \u001b[38;5;241m=\u001b[39m original_dir \u001b[38;5;241m+\u001b[39m filename\n\u001b[0;32m----> 4\u001b[0m     clean, sr \u001b[38;5;241m=\u001b[39m \u001b[43mlibrosa\u001b[49m\u001b[38;5;241;43m.\u001b[39;49m\u001b[43mload\u001b[49m\u001b[43m(\u001b[49m\u001b[43mclean_file\u001b[49m\u001b[43m,\u001b[49m\u001b[43m \u001b[49m\u001b[43msr\u001b[49m\u001b[38;5;241;43m=\u001b[39;49m\u001b[43msr\u001b[49m\u001b[43m)\u001b[49m\n\u001b[1;32m      5\u001b[0m     data[filename] \u001b[38;5;241m=\u001b[39m clean\n\u001b[1;32m      6\u001b[0m \u001b[38;5;28mprint\u001b[39m(data\u001b[38;5;241m.\u001b[39mkeys())\n",
      "File \u001b[0;32m~/.local/lib/python3.8/site-packages/librosa/util/decorators.py:88\u001b[0m, in \u001b[0;36mdeprecate_positional_args.<locals>._inner_deprecate_positional_args.<locals>.inner_f\u001b[0;34m(*args, **kwargs)\u001b[0m\n\u001b[1;32m     86\u001b[0m extra_args \u001b[38;5;241m=\u001b[39m \u001b[38;5;28mlen\u001b[39m(args) \u001b[38;5;241m-\u001b[39m \u001b[38;5;28mlen\u001b[39m(all_args)\n\u001b[1;32m     87\u001b[0m \u001b[38;5;28;01mif\u001b[39;00m extra_args \u001b[38;5;241m<\u001b[39m\u001b[38;5;241m=\u001b[39m \u001b[38;5;241m0\u001b[39m:\n\u001b[0;32m---> 88\u001b[0m     \u001b[38;5;28;01mreturn\u001b[39;00m \u001b[43mf\u001b[49m\u001b[43m(\u001b[49m\u001b[38;5;241;43m*\u001b[39;49m\u001b[43margs\u001b[49m\u001b[43m,\u001b[49m\u001b[43m \u001b[49m\u001b[38;5;241;43m*\u001b[39;49m\u001b[38;5;241;43m*\u001b[39;49m\u001b[43mkwargs\u001b[49m\u001b[43m)\u001b[49m\n\u001b[1;32m     90\u001b[0m \u001b[38;5;66;03m# extra_args > 0\u001b[39;00m\n\u001b[1;32m     91\u001b[0m args_msg \u001b[38;5;241m=\u001b[39m [\n\u001b[1;32m     92\u001b[0m     \u001b[38;5;124m\"\u001b[39m\u001b[38;5;132;01m{}\u001b[39;00m\u001b[38;5;124m=\u001b[39m\u001b[38;5;132;01m{}\u001b[39;00m\u001b[38;5;124m\"\u001b[39m\u001b[38;5;241m.\u001b[39mformat(name, arg)\n\u001b[1;32m     93\u001b[0m     \u001b[38;5;28;01mfor\u001b[39;00m name, arg \u001b[38;5;129;01min\u001b[39;00m \u001b[38;5;28mzip\u001b[39m(kwonly_args[:extra_args], args[\u001b[38;5;241m-\u001b[39mextra_args:])\n\u001b[1;32m     94\u001b[0m ]\n",
      "File \u001b[0;32m~/.local/lib/python3.8/site-packages/librosa/core/audio.py:170\u001b[0m, in \u001b[0;36mload\u001b[0;34m(path, sr, mono, offset, duration, dtype, res_type)\u001b[0m\n\u001b[1;32m    168\u001b[0m \u001b[38;5;28;01mif\u001b[39;00m \u001b[38;5;28misinstance\u001b[39m(path, (\u001b[38;5;28mstr\u001b[39m, pathlib\u001b[38;5;241m.\u001b[39mPurePath)):\n\u001b[1;32m    169\u001b[0m     warnings\u001b[38;5;241m.\u001b[39mwarn(\u001b[38;5;124m\"\u001b[39m\u001b[38;5;124mPySoundFile failed. Trying audioread instead.\u001b[39m\u001b[38;5;124m\"\u001b[39m, stacklevel\u001b[38;5;241m=\u001b[39m\u001b[38;5;241m2\u001b[39m)\n\u001b[0;32m--> 170\u001b[0m     y, sr_native \u001b[38;5;241m=\u001b[39m \u001b[43m__audioread_load\u001b[49m\u001b[43m(\u001b[49m\u001b[43mpath\u001b[49m\u001b[43m,\u001b[49m\u001b[43m \u001b[49m\u001b[43moffset\u001b[49m\u001b[43m,\u001b[49m\u001b[43m \u001b[49m\u001b[43mduration\u001b[49m\u001b[43m,\u001b[49m\u001b[43m \u001b[49m\u001b[43mdtype\u001b[49m\u001b[43m)\u001b[49m\n\u001b[1;32m    171\u001b[0m \u001b[38;5;28;01melse\u001b[39;00m:\n\u001b[1;32m    172\u001b[0m     \u001b[38;5;28;01mraise\u001b[39;00m exc\n",
      "File \u001b[0;32m~/.local/lib/python3.8/site-packages/librosa/core/audio.py:226\u001b[0m, in \u001b[0;36m__audioread_load\u001b[0;34m(path, offset, duration, dtype)\u001b[0m\n\u001b[1;32m    223\u001b[0m     reader \u001b[38;5;241m=\u001b[39m path\n\u001b[1;32m    224\u001b[0m \u001b[38;5;28;01melse\u001b[39;00m:\n\u001b[1;32m    225\u001b[0m     \u001b[38;5;66;03m# If the input was not an audioread object, try to open it\u001b[39;00m\n\u001b[0;32m--> 226\u001b[0m     reader \u001b[38;5;241m=\u001b[39m \u001b[43maudioread\u001b[49m\u001b[38;5;241;43m.\u001b[39;49m\u001b[43maudio_open\u001b[49m\u001b[43m(\u001b[49m\u001b[43mpath\u001b[49m\u001b[43m)\u001b[49m\n\u001b[1;32m    228\u001b[0m \u001b[38;5;28;01mwith\u001b[39;00m reader \u001b[38;5;28;01mas\u001b[39;00m input_file:\n\u001b[1;32m    229\u001b[0m     sr_native \u001b[38;5;241m=\u001b[39m input_file\u001b[38;5;241m.\u001b[39msamplerate\n",
      "File \u001b[0;32m~/.local/lib/python3.8/site-packages/audioread/__init__.py:127\u001b[0m, in \u001b[0;36maudio_open\u001b[0;34m(path, backends)\u001b[0m\n\u001b[1;32m    125\u001b[0m \u001b[38;5;28;01mfor\u001b[39;00m BackendClass \u001b[38;5;129;01min\u001b[39;00m backends:\n\u001b[1;32m    126\u001b[0m     \u001b[38;5;28;01mtry\u001b[39;00m:\n\u001b[0;32m--> 127\u001b[0m         \u001b[38;5;28;01mreturn\u001b[39;00m \u001b[43mBackendClass\u001b[49m\u001b[43m(\u001b[49m\u001b[43mpath\u001b[49m\u001b[43m)\u001b[49m\n\u001b[1;32m    128\u001b[0m     \u001b[38;5;28;01mexcept\u001b[39;00m DecodeError:\n\u001b[1;32m    129\u001b[0m         \u001b[38;5;28;01mpass\u001b[39;00m\n",
      "File \u001b[0;32m~/.local/lib/python3.8/site-packages/audioread/rawread.py:59\u001b[0m, in \u001b[0;36mRawAudioFile.__init__\u001b[0;34m(self, filename)\u001b[0m\n\u001b[1;32m     58\u001b[0m \u001b[38;5;28;01mdef\u001b[39;00m \u001b[38;5;21m__init__\u001b[39m(\u001b[38;5;28mself\u001b[39m, filename):\n\u001b[0;32m---> 59\u001b[0m     \u001b[38;5;28mself\u001b[39m\u001b[38;5;241m.\u001b[39m_fh \u001b[38;5;241m=\u001b[39m \u001b[38;5;28;43mopen\u001b[39;49m\u001b[43m(\u001b[49m\u001b[43mfilename\u001b[49m\u001b[43m,\u001b[49m\u001b[43m \u001b[49m\u001b[38;5;124;43m'\u001b[39;49m\u001b[38;5;124;43mrb\u001b[39;49m\u001b[38;5;124;43m'\u001b[39;49m\u001b[43m)\u001b[49m\n\u001b[1;32m     61\u001b[0m     \u001b[38;5;28;01mtry\u001b[39;00m:\n\u001b[1;32m     62\u001b[0m         \u001b[38;5;28mself\u001b[39m\u001b[38;5;241m.\u001b[39m_file \u001b[38;5;241m=\u001b[39m aifc\u001b[38;5;241m.\u001b[39mopen(\u001b[38;5;28mself\u001b[39m\u001b[38;5;241m.\u001b[39m_fh)\n",
      "\u001b[0;31mFileNotFoundError\u001b[0m: [Errno 2] No such file or directory: 'data/in/original/podcast1_16_5.wav'"
     ]
    }
   ],
   "source": [
    "sr = 16000\n",
    "for filename in clean_src:\n",
    "    clean_file = original_dir + filename\n",
    "    clean, sr = librosa.load(clean_file, sr=sr)\n",
    "    data[filename] = clean\n",
    "print(data.keys())\n",
    "for noise_dir in noise_src:\n",
    "    for ch in ch_names:\n",
    "        noise_file = diff_noise_dir + noise_dir + ch\n",
    "        noise, sr = librosa.load(noise_file, sr=sr)\n",
    "        minute = len(noise) // 5 + 1\n",
    "        noise = noise[:minute]\n",
    "        data[noise_dir + ch] = noise\n",
    "print(data.keys())"
   ]
  },
  {
   "cell_type": "markdown",
   "id": "b8ced70c-223a-477c-8514-12d1d8eb8715",
   "metadata": {},
   "source": [
    "## 2. Create a copy and add noise"
   ]
  },
  {
   "cell_type": "code",
   "execution_count": 4,
   "id": "4d69fb3a-4e61-437e-88d4-1aba0b633584",
   "metadata": {},
   "outputs": [
    {
     "name": "stdout",
     "output_type": "stream",
     "text": [
      "podcast1_16_5.wav\n",
      "podcast2_16_5.wav\n",
      "podcast3_16_5.wav\n",
      "podcast1_16_5.wav\n",
      "podcast2_16_5.wav\n",
      "podcast3_16_5.wav\n",
      "podcast1_16_5.wav\n",
      "podcast2_16_5.wav\n",
      "podcast3_16_5.wav\n",
      "podcast4_16_5.wav\n",
      "data/in/noisy/4_SPSQUAREch01.wav\n",
      "data/in/noisy/4_SPSQUAREch02.wav\n",
      "data/in/noisy/4_SPSQUAREch03.wav\n",
      "data/in/noisy/4_SPSQUAREch04.wav\n",
      "data/in/noisy/4_SPSQUAREch05.wav\n"
     ]
    }
   ],
   "source": [
    "noise_src = [\"OMEETING\", \"OOFFICE\", \"PRESTO\"]\n",
    "clean_src = ['podcast1_16_5.wav', 'podcast2_16_5.wav', 'podcast3_16_5.wav']\n",
    "parts_n = 5\n",
    "sr = 16000\n",
    "for noise_dir in noise_src:\n",
    "    noise_idx = 0\n",
    "    for filename in clean_src:\n",
    "        print(filename)\n",
    "        clean = data[filename]\n",
    "        parts = np.array_split(clean, parts_n)\n",
    "        for i in range(parts_n):\n",
    "            ch = ch_names[noise_idx]\n",
    "            noise_idx += 1\n",
    "            noise = data[noise_dir + ch]\n",
    "            lim = min(parts[i].shape, noise.shape)[0]\n",
    "            clean = clean[:lim]\n",
    "            noise = noise[:lim]\n",
    "            noisy_data = (clean+noise) / 2\n",
    "            filename_clean_file = \"data/in/clean/\" + filename[len(\"podcast\"):-len(\"_16_5.wav\")] +\"_\"+noise_dir+ch[1:]\n",
    "            filename_noisy_file = \"data/in/noisy/\" + filename[len(\"podcast\"):-len(\"_16_5.wav\")] +\"_\"+noise_dir+ch[1:]\n",
    "            sf.write(filename_noisy_file, noisy_data, sr, subtype='PCM_16')\n",
    "            sf.write(filename_clean_file, clean, sr, subtype='PCM_16')\n",
    "\n",
    "for noise_dir in [\"SPSQUARE\"]:\n",
    "    noise_idx = 0\n",
    "    for filename in [\"podcast4_16_5.wav\"]:\n",
    "        print(filename)\n",
    "        clean = data[filename]\n",
    "        parts = np.array_split(clean, parts_n)\n",
    "        for i in range(parts_n):\n",
    "            ch = ch_names[noise_idx]\n",
    "            noise_idx += 1\n",
    "            noise = data[noise_dir + ch]\n",
    "            lim = min(parts[i].shape, noise.shape)[0]\n",
    "            clean = clean[:lim]\n",
    "            noise = noise[:lim]\n",
    "            noisy_data = (clean+noise) / 2\n",
    "            filename_clean_file = \"data/in/clean/\" + filename[len(\"podcast\"):-len(\"_16_5.wav\")] +\"_\"+noise_dir+ch[1:]\n",
    "            filename_noisy_file = \"data/in/noisy/\" + filename[len(\"podcast\"):-len(\"_16_5.wav\")] +\"_\"+noise_dir+ch[1:]\n",
    "            print(filename_noisy_file)\n",
    "            sf.write(filename_noisy_file, noisy_data, sr, subtype='PCM_16')\n",
    "            sf.write(filename_clean_file, clean, sr, subtype='PCM_16')\n",
    "\n",
    "            "
   ]
  },
  {
   "cell_type": "markdown",
   "id": "04438d3d-bede-496d-8a08-38d1b795541a",
   "metadata": {},
   "source": [
    "## 3. Tokenize the audio"
   ]
  },
  {
   "cell_type": "code",
   "execution_count": 9,
   "id": "a5ea9fde-273b-4b6b-86fc-b679ac4c05e3",
   "metadata": {
    "tags": []
   },
   "outputs": [],
   "source": [
    "parts_n = 5\n",
    "final = \"X_0_00_YYYY.wav\"\n",
    "noisy_dir = \"data/podcast/noisy/\"\n",
    "clean_dir = \"data/podcast/clean/\"\n",
    "for filename in os.listdir(clean_dir):\n",
    "    audio_regions = at.split(\n",
    "        clean_dir + filename,\n",
    "        min_dur=3,     # minimum duration of a valid audio event in seconds\n",
    "        max_dur=9,       # maximum duration of an event\n",
    "        max_silence=0.3, # maximum duration of tolerated continuous silence within an event\n",
    "        energy_threshold=55 # threshold of detection\n",
    "    )\n",
    "    it_position = 0\n",
    "    noisy_region = at.load(noisy_dir + filename)\n",
    "    for i, clean_sample in enumerate(audio_regions):\n",
    "        clean_sample.save(\"data/in/clean/\"+str(i)+\"_\"+filename)\n",
    "        noisy_sample = noisy_region[it_position:it_position+len(clean_sample)]\n",
    "        noisy_sample.save(\"data/in/noisy/\"+str(i)+\"_\"+filename)\n",
    "        it_position += len(sample)"
   ]
  }
 ],
 "metadata": {
  "kernelspec": {
   "display_name": "mvi",
   "language": "python",
   "name": "mvi"
  },
  "language_info": {
   "codemirror_mode": {
    "name": "ipython",
    "version": 3
   },
   "file_extension": ".py",
   "mimetype": "text/x-python",
   "name": "python",
   "nbconvert_exporter": "python",
   "pygments_lexer": "ipython3",
   "version": "3.8.10"
  }
 },
 "nbformat": 4,
 "nbformat_minor": 5
}
